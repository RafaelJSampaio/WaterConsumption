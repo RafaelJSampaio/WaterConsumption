{
 "cells": [
  {
   "cell_type": "markdown",
   "metadata": {},
   "source": [
    "# The Water Consumption Study\n",
    "## A dataset from Kaggle\n",
    "https://www.kaggle.com/marcomolina/water-consumption-in-a-median-size-city\n",
    "\n",
    "**About**\n",
    "This dataset is about water consumption in Sonora, a city in Northern Mexico\n"
   ]
  },
  {
   "cell_type": "code",
   "execution_count": 1,
   "metadata": {},
   "outputs": [],
   "source": [
    "# Import the required libraries\n",
    "import pandas as pd\n",
    "import numpy as np\n",
    "import matplotlib.pyplot as plt\n",
    "%matplotlib inline"
   ]
  },
  {
   "cell_type": "code",
   "execution_count": 2,
   "metadata": {},
   "outputs": [
    {
     "data": {
      "text/html": [
       "<div>\n",
       "<style scoped>\n",
       "    .dataframe tbody tr th:only-of-type {\n",
       "        vertical-align: middle;\n",
       "    }\n",
       "\n",
       "    .dataframe tbody tr th {\n",
       "        vertical-align: top;\n",
       "    }\n",
       "\n",
       "    .dataframe thead th {\n",
       "        text-align: right;\n",
       "    }\n",
       "</style>\n",
       "<table border=\"1\" class=\"dataframe\">\n",
       "  <thead>\n",
       "    <tr style=\"text-align: right;\">\n",
       "      <th></th>\n",
       "      <th>USO2013</th>\n",
       "      <th>TU</th>\n",
       "      <th>DC</th>\n",
       "      <th>M</th>\n",
       "      <th>UL</th>\n",
       "      <th>f.1_ENE_09</th>\n",
       "      <th>f.1_FEB_09</th>\n",
       "      <th>f.1_MAR_09</th>\n",
       "      <th>f.1_ABR_09</th>\n",
       "      <th>f.1_MAY_09</th>\n",
       "      <th>...</th>\n",
       "      <th>f.1_MAR_15</th>\n",
       "      <th>f.1_ABR_15</th>\n",
       "      <th>f.1_MAY_15</th>\n",
       "      <th>f.1_JUN_15</th>\n",
       "      <th>f.1_JUL_15</th>\n",
       "      <th>f.1_AGO_15</th>\n",
       "      <th>f.1_SEP_15</th>\n",
       "      <th>f.1_OCT_15</th>\n",
       "      <th>f.1_NOV_15</th>\n",
       "      <th>f.1_DIC_15</th>\n",
       "    </tr>\n",
       "  </thead>\n",
       "  <tbody>\n",
       "    <tr>\n",
       "      <th>0</th>\n",
       "      <td>H3</td>\n",
       "      <td>DOMESTICO MEDIO</td>\n",
       "      <td>0.5</td>\n",
       "      <td>MSDELAUNET</td>\n",
       "      <td>197.0</td>\n",
       "      <td>20.0</td>\n",
       "      <td>20.0</td>\n",
       "      <td>20.0</td>\n",
       "      <td>20.0</td>\n",
       "      <td>20.0</td>\n",
       "      <td>...</td>\n",
       "      <td>2.0</td>\n",
       "      <td>1.0</td>\n",
       "      <td>2.0</td>\n",
       "      <td>1.0</td>\n",
       "      <td>7.0</td>\n",
       "      <td>7.0</td>\n",
       "      <td>42.0</td>\n",
       "      <td>27.0</td>\n",
       "      <td>22.0</td>\n",
       "      <td>21.0</td>\n",
       "    </tr>\n",
       "    <tr>\n",
       "      <th>1</th>\n",
       "      <td>H3</td>\n",
       "      <td>DOMESTICO MEDIO</td>\n",
       "      <td>0.5</td>\n",
       "      <td>MSDELAUNET</td>\n",
       "      <td>307.0</td>\n",
       "      <td>NaN</td>\n",
       "      <td>30.0</td>\n",
       "      <td>30.0</td>\n",
       "      <td>30.0</td>\n",
       "      <td>30.0</td>\n",
       "      <td>...</td>\n",
       "      <td>11.0</td>\n",
       "      <td>13.0</td>\n",
       "      <td>16.0</td>\n",
       "      <td>14.0</td>\n",
       "      <td>15.0</td>\n",
       "      <td>16.0</td>\n",
       "      <td>13.0</td>\n",
       "      <td>17.0</td>\n",
       "      <td>17.0</td>\n",
       "      <td>11.0</td>\n",
       "    </tr>\n",
       "    <tr>\n",
       "      <th>2</th>\n",
       "      <td>H3</td>\n",
       "      <td>DOMESTICO RESIDENCIAL</td>\n",
       "      <td>0.5</td>\n",
       "      <td>MSDELAUNET</td>\n",
       "      <td>179.0</td>\n",
       "      <td>NaN</td>\n",
       "      <td>NaN</td>\n",
       "      <td>NaN</td>\n",
       "      <td>NaN</td>\n",
       "      <td>NaN</td>\n",
       "      <td>...</td>\n",
       "      <td>6.0</td>\n",
       "      <td>9.0</td>\n",
       "      <td>7.0</td>\n",
       "      <td>8.0</td>\n",
       "      <td>8.0</td>\n",
       "      <td>10.0</td>\n",
       "      <td>12.0</td>\n",
       "      <td>9.0</td>\n",
       "      <td>6.0</td>\n",
       "      <td>3.0</td>\n",
       "    </tr>\n",
       "    <tr>\n",
       "      <th>3</th>\n",
       "      <td>H3</td>\n",
       "      <td>DOMESTICO MEDIO</td>\n",
       "      <td>0.5</td>\n",
       "      <td>CICASA MMD-15 S</td>\n",
       "      <td>852.0</td>\n",
       "      <td>NaN</td>\n",
       "      <td>NaN</td>\n",
       "      <td>NaN</td>\n",
       "      <td>NaN</td>\n",
       "      <td>NaN</td>\n",
       "      <td>...</td>\n",
       "      <td>17.0</td>\n",
       "      <td>20.0</td>\n",
       "      <td>16.0</td>\n",
       "      <td>16.0</td>\n",
       "      <td>18.0</td>\n",
       "      <td>18.0</td>\n",
       "      <td>17.0</td>\n",
       "      <td>17.0</td>\n",
       "      <td>18.0</td>\n",
       "      <td>9.0</td>\n",
       "    </tr>\n",
       "    <tr>\n",
       "      <th>4</th>\n",
       "      <td>H3</td>\n",
       "      <td>DOMESTICO RESIDENCIAL</td>\n",
       "      <td>0.5</td>\n",
       "      <td>NaN</td>\n",
       "      <td>NaN</td>\n",
       "      <td>20.0</td>\n",
       "      <td>20.0</td>\n",
       "      <td>20.0</td>\n",
       "      <td>20.0</td>\n",
       "      <td>20.0</td>\n",
       "      <td>...</td>\n",
       "      <td>27.0</td>\n",
       "      <td>27.0</td>\n",
       "      <td>27.0</td>\n",
       "      <td>28.0</td>\n",
       "      <td>28.0</td>\n",
       "      <td>31.0</td>\n",
       "      <td>27.0</td>\n",
       "      <td>27.0</td>\n",
       "      <td>27.0</td>\n",
       "      <td>24.0</td>\n",
       "    </tr>\n",
       "  </tbody>\n",
       "</table>\n",
       "<p>5 rows × 89 columns</p>\n",
       "</div>"
      ],
      "text/plain": [
       "  USO2013                     TU   DC                M     UL  f.1_ENE_09  \\\n",
       "0      H3        DOMESTICO MEDIO  0.5       MSDELAUNET  197.0        20.0   \n",
       "1      H3        DOMESTICO MEDIO  0.5       MSDELAUNET  307.0         NaN   \n",
       "2      H3  DOMESTICO RESIDENCIAL  0.5       MSDELAUNET  179.0         NaN   \n",
       "3      H3        DOMESTICO MEDIO  0.5  CICASA MMD-15 S  852.0         NaN   \n",
       "4      H3  DOMESTICO RESIDENCIAL  0.5              NaN    NaN        20.0   \n",
       "\n",
       "   f.1_FEB_09  f.1_MAR_09  f.1_ABR_09  f.1_MAY_09     ...      f.1_MAR_15  \\\n",
       "0        20.0        20.0        20.0        20.0     ...             2.0   \n",
       "1        30.0        30.0        30.0        30.0     ...            11.0   \n",
       "2         NaN         NaN         NaN         NaN     ...             6.0   \n",
       "3         NaN         NaN         NaN         NaN     ...            17.0   \n",
       "4        20.0        20.0        20.0        20.0     ...            27.0   \n",
       "\n",
       "   f.1_ABR_15  f.1_MAY_15  f.1_JUN_15  f.1_JUL_15  f.1_AGO_15  f.1_SEP_15  \\\n",
       "0         1.0         2.0         1.0         7.0         7.0        42.0   \n",
       "1        13.0        16.0        14.0        15.0        16.0        13.0   \n",
       "2         9.0         7.0         8.0         8.0        10.0        12.0   \n",
       "3        20.0        16.0        16.0        18.0        18.0        17.0   \n",
       "4        27.0        27.0        28.0        28.0        31.0        27.0   \n",
       "\n",
       "   f.1_OCT_15  f.1_NOV_15  f.1_DIC_15  \n",
       "0        27.0        22.0        21.0  \n",
       "1        17.0        17.0        11.0  \n",
       "2         9.0         6.0         3.0  \n",
       "3        17.0        18.0         9.0  \n",
       "4        27.0        27.0        24.0  \n",
       "\n",
       "[5 rows x 89 columns]"
      ]
     },
     "execution_count": 2,
     "metadata": {},
     "output_type": "execute_result"
    }
   ],
   "source": [
    "# Explore the dataset\n",
    "df=pd.read_csv('AguaH.csv')\n",
    "df.head()"
   ]
  },
  {
   "cell_type": "code",
   "execution_count": 8,
   "metadata": {
    "scrolled": true
   },
   "outputs": [
    {
     "name": "stdout",
     "output_type": "stream",
     "text": [
      "['USO2013', 'TU', 'DC', 'M', 'UL', 'f.1_ENE_09', 'f.1_FEB_09', 'f.1_MAR_09', 'f.1_ABR_09', 'f.1_MAY_09', 'f.1_JUN_09', 'f.1_JUL_09', 'f.1_AGO_09', 'f.1_SEP_09', 'f.1_OCT_09', 'f.1_NOV_09', 'f.1_DIC_09', 'f.1_ENE_10', 'f.1_FEB_10', 'f.1_MAR_10', 'f.1_ABR_10', 'f.1_MAY_10', 'f.1_JUN_10', 'f.1_JUL_10', 'f.1_AGO_10', 'f.1_SEP_10', 'f.1_OCT_10', 'f.1_NOV_10', 'f.1_DIC_10', 'f.1_ENE_11', 'f.1_FEB_11', 'f.1_MAR_11', 'f.1_ABR_11', 'f.1_MAY_11', 'f.1_JUN_11', 'f.1_JUL_11', 'f.1_AGO_11', 'f.1_SEP_11', 'f.1_OCT_11', 'f.1_NOV_11', 'f.1_DIC_11', 'f.1_ENE_12', 'f.1_FEB_12', 'f.1_MAR_12', 'f.1_ABR_12', 'f.1_MAY_12', 'f.1_JUN_12', 'f.1_JUL_12', 'f.1_AGO_12', 'f.1_SEP_12', 'f.1_OCT_12', 'f.1_NOV_12', 'f.1_DIC_12', 'f.1_ENE_13', 'f.1_FEB_13', 'f.1_MAR_13', 'f.1_ABR_13', 'f.1_MAY_13', 'f.1_JUN_13', 'f.1_JUL_13', 'f.1_AGO_13', 'f.1_SEP_13', 'f.1_OCT_13', 'f.1_NOV_13', 'f.1_DIC_13', 'f.1_ENE_14', 'f.1_FEB_14', 'f.1_MAR_14', 'f.1_ABR_14', 'f.1_MAY_14', 'f.1_JUN_14', 'f.1_JUL_14', 'f.1_AGO_14', 'f.1_SEP_14', 'f.1_OCT_14', 'f.1_NOV_14', 'f.1_DIC_14', 'f.1_ENE_15', 'f.1_FEB_15', 'f.1_MAR_15', 'f.1_ABR_15', 'f.1_MAY_15', 'f.1_JUN_15', 'f.1_JUL_15', 'f.1_AGO_15', 'f.1_SEP_15', 'f.1_OCT_15', 'f.1_NOV_15', 'f.1_DIC_15'] (178597, 89)\n"
     ]
    }
   ],
   "source": [
    "# explore the columns of the dataset\n",
    "print(list(df), df.shape)"
   ]
  },
  {
   "cell_type": "code",
   "execution_count": 22,
   "metadata": {
    "scrolled": true
   },
   "outputs": [
    {
     "data": {
      "text/plain": [
       "'For the column [USO2013]; object, the unique values are:'"
      ]
     },
     "metadata": {},
     "output_type": "display_data"
    },
    {
     "data": {
      "text/plain": [
       "array(['H3', 'AVD', 'MX', 'IRM', 'RHC', 'H2', 'H1', 'EQ', 'RG', 'IRB',\n",
       "       'RIC', 'IN', 'IRA', 'CU'], dtype=object)"
      ]
     },
     "metadata": {},
     "output_type": "display_data"
    },
    {
     "data": {
      "text/plain": [
       "'For the column [TU]; object, the unique values are:'"
      ]
     },
     "metadata": {},
     "output_type": "display_data"
    },
    {
     "data": {
      "text/plain": [
       "array(['DOMESTICO MEDIO', 'DOMESTICO RESIDENCIAL', 'DOMESTICO BAJA',\n",
       "       'SOCIAL', 'COMERCIAL', 'INDUSTRIAL', 'ESPECIAL'], dtype=object)"
      ]
     },
     "metadata": {},
     "output_type": "display_data"
    },
    {
     "data": {
      "text/plain": [
       "'For the column [DC]; float64, the unique values are:'"
      ]
     },
     "metadata": {},
     "output_type": "display_data"
    },
    {
     "data": {
      "text/plain": [
       "array([  0.5 ,   0.75,   1.  ,   4.  ,   3.  ,   2.  ,   1.5 ,  10.  ])"
      ]
     },
     "metadata": {},
     "output_type": "display_data"
    },
    {
     "data": {
      "text/plain": [
       "'For the column [M]; object, the unique values are:'"
      ]
     },
     "metadata": {},
     "output_type": "display_data"
    },
    {
     "data": {
      "text/plain": [
       "array(['MSDELAUNET', 'CICASA MMD-15 S', nan, 'Cicasa NG 1/2', 'DOROT',\n",
       "       'CICASA / DE LA UNET', 'Cicasa NG 3/4', 'AZTECA', 'BADGERMETER',\n",
       "       'Delaunet MD-100', 'ELSTER', 'ADCOM', 'ACTARIS', 'SENSUS',\n",
       "       'SHLUMBERGER', 'Otras / desconocida', 'KENT', 'TONHY', 'ARAD',\n",
       "       'INVENSYS', 'ALFA', 'SAPPEL', 'INVERCONTA', 'ABB', 'BAR-METERS 1\"',\n",
       "       'ENDRESS-HOUSER', 'Kent ABB', 'Delaunet MD-50', 'Delaunet MMD-19',\n",
       "       'PRECISA II', 'MASTER', 'Badger combinado', 'Iberconta',\n",
       "       'Azteca 3VM', 'Badger M25 Bronce', 'RECORDAL', 'ZENNER 1/2',\n",
       "       'GENERICA', 'Delaunet MD-19', 'Delaunet UD-15', 'EWE',\n",
       "       'Delaunet MD-15', 'Y-T MD-15', 'Delaunet WD-100', 'AV3STARS',\n",
       "       'SAPPEL AQUARIUS', 'Badger RCDLL-25', 'Delaunet MD-40', 'MEXICANO',\n",
       "       'NEPTUNE', 'Delaunet Aurus 3UM-15', 'AQUARIUS', 'IESA', 'MENECKE'], dtype=object)"
      ]
     },
     "metadata": {},
     "output_type": "display_data"
    },
    {
     "data": {
      "text/plain": [
       "'For the column [UL]; float64, the unique values are:'"
      ]
     },
     "metadata": {},
     "output_type": "display_data"
    },
    {
     "data": {
      "text/plain": [
       "array([  197.,   307.,   179., ...,  5968.,  9621.,  5388.])"
      ]
     },
     "metadata": {},
     "output_type": "display_data"
    }
   ],
   "source": [
    "columns_to_explore = ['USO2013', 'TU', 'DC', 'M', 'UL']\n",
    "for col in columns_to_explore:\n",
    "    display(f'For the column [{col}]; {df[col].dtype}, the unique values are:', df[col].unique())"
   ]
  },
  {
   "cell_type": "code",
   "execution_count": 14,
   "metadata": {},
   "outputs": [],
   "source": [
    "# Explainations of the USO2013 column\n",
    "# Column Name should be \"Type of land use\", or \"LandUseType\"\n",
    "uso_explain = {'AVD': 'Vegetation area','CU': 'Downtown','EQ': 'Parks',\n",
    "               'H1': 'Housing low density','H2': 'Housing mid density',\n",
    "               'H3': 'Housing high density','IN': 'Infrastructure',\n",
    "               'IRA': 'High Risk Industry','IRB': 'Low Risk Industry',\n",
    "               'IRM': 'Medium Risk Industry',\n",
    "               'MX': 'Mixed (commerce, housing, industry)',\n",
    "               'RG': 'Government Reserve','RHC': 'Reserve Housing Conditioned',\n",
    "               'RIC': 'Reserve Industry Conditioned',}"
   ]
  },
  {
   "cell_type": "code",
   "execution_count": 15,
   "metadata": {},
   "outputs": [],
   "source": [
    "# Explainations of the TU column\n",
    "# Column Name should be \"Type of user\", or \"UserType\"\n",
    "tu_explain = {'COMERCIAL': 'Commercial','DOMESTICO BAJA': 'Low Domestic',\n",
    "              'DOMESTICO MEDIO': 'Medium Domestic',\n",
    "              'DOMESTICO RESIDENCIAL': 'Residential Domestic',\n",
    "              'ESPECIAL': 'Non Industrial High Consumption (Carwash, …)',\n",
    "              'INDUSTRIAL': 'Industrial','SOCIAL': 'Social Services'}"
   ]
  },
  {
   "cell_type": "code",
   "execution_count": 23,
   "metadata": {},
   "outputs": [],
   "source": [
    "# Explainations of the DC column\n",
    "# The diameter of the pipe of the house that is connected to the public grid levels in inches\n",
    "# Column Name should be \"Inlet pipe diameter\", or \"InletDiameter\"\n",
    "\n",
    "# No modifications required"
   ]
  },
  {
   "cell_type": "code",
   "execution_count": 37,
   "metadata": {},
   "outputs": [
    {
     "name": "stdout",
     "output_type": "stream",
     "text": [
      "The column contains 178597 records, From which 41071 are NaN\n",
      "The ratio is  23.00%\n"
     ]
    }
   ],
   "source": [
    "# Explainations of the M column\n",
    "# The name of the vendor of the measuring gauge of water consumption\n",
    "# Column Name should be \"The water gauge vendor\", or \"GaugeVendor\"\n",
    "\n",
    "# Fix the NaN(s)\n",
    "m = df.M\n",
    "print (f'The column contains {m.isna().count()} records, From which {m.isna().sum()} are NaN\\nThe ratio is {m.isna().mean()*100:6.2f}%')"
   ]
  },
  {
   "cell_type": "code",
   "execution_count": 38,
   "metadata": {},
   "outputs": [
    {
     "name": "stdout",
     "output_type": "stream",
     "text": [
      "The column contains 178597 records, From which 43086 are NaN\n",
      "The ratio is  24.12%\n"
     ]
    }
   ],
   "source": [
    "# Explainations of the UL column\n",
    "# The cubic meters of consumption in January 2016\n",
    "# Column Name should be \"Reference consumption at Jan 2016\", or \"CurrentConsumption\"\n",
    "\n",
    "# Fix the NaN(s)\n",
    "m = df.UL\n",
    "print (f'The column contains {m.isna().count()} records, From which {m.isna().sum()} are NaN\\nThe ratio is {m.isna().mean()*100:6.2f}%')"
   ]
  },
  {
   "cell_type": "code",
   "execution_count": 39,
   "metadata": {},
   "outputs": [],
   "source": [
    "# Explainations of the other columns with format f.1_MMM_YY\n",
    "# The cubic meters of consumption in month MMM, and year YY\n",
    "# Columns should be melted with the format \"MonthYear, value\"\n",
    "# Then the MonthYear column should be split to \"Month\" and \"Year\".\n",
    "# The value column Name should be \"Consumption\"\n",
    "\n",
    "# & Fix the NaN(s)"
   ]
  },
  {
   "cell_type": "code",
   "execution_count": null,
   "metadata": {},
   "outputs": [],
   "source": []
  }
 ],
 "metadata": {
  "kernelspec": {
   "display_name": "Python 3",
   "language": "python",
   "name": "python3"
  },
  "language_info": {
   "codemirror_mode": {
    "name": "ipython",
    "version": 3
   },
   "file_extension": ".py",
   "mimetype": "text/x-python",
   "name": "python",
   "nbconvert_exporter": "python",
   "pygments_lexer": "ipython3",
   "version": "3.6.6"
  }
 },
 "nbformat": 4,
 "nbformat_minor": 2
}
